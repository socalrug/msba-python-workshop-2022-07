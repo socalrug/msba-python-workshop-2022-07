{
 "cells": [
  {
   "cell_type": "markdown",
   "metadata": {},
   "source": [
    "### OCI Data Science - Useful Tips\n",
    "Everything stored in the <span style=\"background-color: #d5d8dc \">/home/datascience</span> folder is now stored on your block volume drive. The <span style=\"background-color: #d5d8dc \">ads-examples</span> folder has moved outside of your working space. Notebook examples are now accessible through a Launcher tab \"Notebook Examples\" button.\n",
    "<details>\n",
    "<summary><font size=\"2\">1. Check for Public Internet Access</font></summary>\n",
    "\n",
    "```python\n",
    "import requests\n",
    "response = requests.get(\"https://oracle.com\")\n",
    "assert response.status_code==200, \"Internet connection failed\"\n",
    "```\n",
    "</details>\n",
    "<details>\n",
    "<summary><font size=\"2\">2. OCI Configuration and Key Files Set Up</font></summary><p>Follow the instructions in the getting-started notebook. That notebook is accessible via the \"Getting Started\" Launcher tab button.</p>\n",
    "</details>\n",
    "<details>\n",
    "<summary><font size=\"2\">3. Helpful Documentation </font></summary>\n",
    "<ul><li><a href=\"https://docs.cloud.oracle.com/en-us/iaas/data-science/using/data-science.htm\">Data Science Service Documentation</a></li>\n",
    "<li><a href=\"https://docs.cloud.oracle.com/iaas/tools/ads-sdk/latest/index.html\">ADS documentation</a></li>\n",
    "</ul>\n",
    "</details>\n",
    "<details>\n",
    "<summary><font size=\"2\">4. Typical Cell Imports and Settings</font></summary>\n",
    "\n",
    "```python\n",
    "%load_ext autoreload\n",
    "%autoreload 2\n",
    "%matplotlib inline\n",
    "\n",
    "import warnings\n",
    "warnings.filterwarnings('ignore')\n",
    "\n",
    "import logging\n",
    "logging.basicConfig(format='%(levelname)s:%(message)s', level=logging.ERROR)\n",
    "\n",
    "import ads\n",
    "from ads.dataset.factory import DatasetFactory\n",
    "from ads.automl.provider import OracleAutoMLProvider\n",
    "from ads.automl.driver import AutoML\n",
    "from ads.evaluations.evaluator import ADSEvaluator\n",
    "from ads.common.data import MLData\n",
    "from ads.explanations.explainer import ADSExplainer\n",
    "from ads.explanations.mlx_global_explainer import MLXGlobalExplainer\n",
    "from ads.explanations.mlx_local_explainer import MLXLocalExplainer\n",
    "from ads.catalog.model import ModelCatalog\n",
    "from ads.common.model_artifact import ModelArtifact\n",
    "```\n",
    "</details>\n",
    "<details>\n",
    "<summary><font size=\"2\">5. Useful Environment Variables</font></summary>\n",
    "\n",
    "```python\n",
    "import os\n",
    "print(os.environ[\"NB_SESSION_COMPARTMENT_OCID\"])\n",
    "print(os.environ[\"PROJECT_OCID\"])\n",
    "print(os.environ[\"USER_OCID\"])\n",
    "print(os.environ[\"TENANCY_OCID\"])\n",
    "print(os.environ[\"NB_REGION\"])\n",
    "```\n",
    "</details>"
   ]
  },
  {
   "cell_type": "markdown",
   "metadata": {},
   "source": [
    "# Review of Python Fundamentals"
   ]
  },
  {
   "cell_type": "markdown",
   "metadata": {},
   "source": [
    "## Module Overview\n",
    "\n",
    "Here are the topics we will go over in this section\n",
    "\n",
    "* Importance of spacing \n",
    "* Variables\n",
    "* Math operations\n",
    "* Operators & Comparison Operators\n",
    "* Data types (numbers, strings, boolean)\n",
    "* Lists\n",
    "* Tuples\n",
    "* Dictionaries"
   ]
  },
  {
   "cell_type": "markdown",
   "metadata": {},
   "source": [
    "## Importance of Spacing \n",
    "\n",
    "Statements indented at the same level are grouped together.  You should only indent a line if it is followed by a conditional statement or begining of the logic of a loop. You will get an unexpected indent error if there is an empty space before a line, and it is not necessary to add whitespace to the line."
   ]
  },
  {
   "cell_type": "code",
   "execution_count": 1,
   "metadata": {},
   "outputs": [
    {
     "ename": "IndentationError",
     "evalue": "unexpected indent (<ipython-input-1-b8adff0609b5>, line 4)",
     "output_type": "error",
     "traceback": [
      "\u001b[0;36m  File \u001b[0;32m\"<ipython-input-1-b8adff0609b5>\"\u001b[0;36m, line \u001b[0;32m4\u001b[0m\n\u001b[0;31m    print('Next Tuesday is August')\u001b[0m\n\u001b[0m    ^\u001b[0m\n\u001b[0;31mIndentationError\u001b[0m\u001b[0;31m:\u001b[0m unexpected indent\n"
     ]
    }
   ],
   "source": [
    "#The following will give you an unexpected indent error due to the space in the second line\n",
    "\n",
    "print('Next Monday is August')\n",
    " print('Next Tuesday is August')"
   ]
  },
  {
   "cell_type": "markdown",
   "metadata": {},
   "source": [
    "The example below shows the need of spacing after a conditional statement line. We will go over conditional statements in more details in another module"
   ]
  },
  {
   "cell_type": "code",
   "execution_count": 2,
   "metadata": {},
   "outputs": [
    {
     "name": "stdout",
     "output_type": "stream",
     "text": [
      "x is greater than or equal to 10\n"
     ]
    }
   ],
   "source": [
    "x = 11\n",
    "if x >= 10:\n",
    "    print('x is greater than or equal to 10')\n",
    "else:\n",
    "    print('x is less than 10')"
   ]
  },
  {
   "cell_type": "markdown",
   "metadata": {},
   "source": [
    "## Variables\n",
    "\n",
    "A variable is created the moment you assign a value to it.  It is not necessary to declare a variable and the type beforehand in Python unlike other programming languages such as Java and C.\n",
    "\n",
    "A variable name can only have alpha-numeric characters and underscores (A-z, 0-9, and _ ), and it is case sensitive. (Variables Ab = 2, ab = 2 are different)"
   ]
  },
  {
   "cell_type": "code",
   "execution_count": 3,
   "metadata": {},
   "outputs": [],
   "source": [
    "#Create variable\n",
    "\n",
    "dd = 'lion'\n",
    "e = 4"
   ]
  },
  {
   "cell_type": "code",
   "execution_count": 5,
   "metadata": {},
   "outputs": [
    {
     "name": "stdout",
     "output_type": "stream",
     "text": [
      "Updated variable value:  7\n"
     ]
    }
   ],
   "source": [
    "# Update variable value\n",
    "f = 5\n",
    "f = f + 2\n",
    "print('Updated variable value: ',f)"
   ]
  },
  {
   "cell_type": "code",
   "execution_count": 6,
   "metadata": {},
   "outputs": [
    {
     "name": "stdout",
     "output_type": "stream",
     "text": [
      "Value of v:  4\n",
      "Value of w:  5\n",
      "Value of x:  six\n"
     ]
    }
   ],
   "source": [
    "# It is possible to assign values to several variables in one line\n",
    "\n",
    "v, w, x = 4, 5, \"six\"\n",
    "print('Value of v: ', v)\n",
    "print('Value of w: ', w)\n",
    "print('Value of x: ', x)"
   ]
  },
  {
   "cell_type": "markdown",
   "metadata": {},
   "source": [
    "## Common Math Operations "
   ]
  },
  {
   "cell_type": "code",
   "execution_count": 7,
   "metadata": {},
   "outputs": [
    {
     "name": "stdout",
     "output_type": "stream",
     "text": [
      "x + y:  32\n",
      "x - y:  18\n",
      "x * y:  175\n",
      "x / y:  3.5714285714285716\n",
      "x // y: 3\n",
      "x % y 4\n"
     ]
    }
   ],
   "source": [
    "## Math Operations\n",
    "\n",
    "x= 25\n",
    "y = 7\n",
    "\n",
    "## Sum x+y\n",
    "\n",
    "print('x + y: ', x + y)\n",
    "\n",
    "## Difference x - y\n",
    "\n",
    "print('x - y: ', x - y)\n",
    "\n",
    "## Product of x and y\n",
    "\n",
    "print ('x * y: ', x*y)\n",
    "\n",
    "## Quotient of x and y\n",
    "\n",
    "print('x / y: ', x/y)\n",
    "\n",
    "## Floored quotient of x and y\n",
    "\n",
    "print('x // y:',  x // y)\n",
    "\n",
    "## Remainder of x/y\n",
    "\n",
    "print('x % y', x % y)\n",
    "\n"
   ]
  },
  {
   "cell_type": "markdown",
   "metadata": {},
   "source": [
    "### Operators"
   ]
  },
  {
   "cell_type": "markdown",
   "metadata": {},
   "source": [
    "These are equivalent assignment operators for updating a variable: \n",
    "<br> \n",
    "<br>`+=` ex. x+=1  is equal to x=x+1\n",
    "<br>`-=` ex. x-=1  is equal to x=x-1\n",
    "<br>`*=` ex. x*=1  is equal to x=x * 1\n",
    "<br>`/=` ex. x/=1  is equal to x=x/1\n",
    "<br>`%=` ex. x%=1  is equal to x=x%1\n",
    "<br>`//=` ex. x//=1  is equal to x=x//1\n"
   ]
  },
  {
   "cell_type": "markdown",
   "metadata": {},
   "source": [
    "### Comparison Operators"
   ]
  },
  {
   "cell_type": "markdown",
   "metadata": {},
   "source": [
    "Comparison operators are used to compare two variables.  It returns `True` or `False`\n",
    "<br> \n",
    "<br>`==` ex. a==b  Is a equal to b?\n",
    "<br>`!=` ex. a!=b  Is a not equal to b?\n",
    "<br>`>` ex. a>b  Is a greater than b?\n",
    "<br>`>=` ex. a>=b  Is a greater than or equal to b?\n",
    "<br>`<` ex. a<b  Is a less than b?\n",
    "<br>`<=` ex. a<b  Is a less than or equal to b?\n"
   ]
  },
  {
   "cell_type": "code",
   "execution_count": 8,
   "metadata": {},
   "outputs": [
    {
     "data": {
      "text/plain": [
       "True"
      ]
     },
     "execution_count": 8,
     "metadata": {},
     "output_type": "execute_result"
    }
   ],
   "source": [
    "a=3\n",
    "b=5\n",
    "a!=b"
   ]
  },
  {
   "cell_type": "code",
   "execution_count": 9,
   "metadata": {},
   "outputs": [
    {
     "name": "stdout",
     "output_type": "stream",
     "text": [
      "True\n"
     ]
    }
   ],
   "source": [
    "#Order of operations from left to right\n",
    "#In the example below, c will not be evaluated if a!=b\n",
    "\n",
    "a = 3\n",
    "b = 4\n",
    "c = 3\n",
    "\n",
    "print (a != b or c)"
   ]
  },
  {
   "cell_type": "markdown",
   "metadata": {},
   "source": [
    "## Data types \n",
    "\n",
    "Numbers, strings and booleans are three common data types in Python\n"
   ]
  },
  {
   "cell_type": "code",
   "execution_count": 10,
   "metadata": {},
   "outputs": [],
   "source": [
    "# Numbers can be integers, floating point values or complex number\n",
    "\n",
    "#Integers\n",
    "a = 5\n",
    "\n",
    "#Floating point values\n",
    "b = 3.0\n",
    "\n",
    "#Complex number\n",
    "\n",
    "c = 2 + 3j\n"
   ]
  },
  {
   "cell_type": "code",
   "execution_count": 12,
   "metadata": {},
   "outputs": [],
   "source": [
    "#Strings are characters enclosed between \"\", whitespace counts as a character in a string\n",
    "\n",
    "d = 'apple'\n",
    "\n",
    "e = 'apple is delicious'"
   ]
  },
  {
   "cell_type": "code",
   "execution_count": 13,
   "metadata": {},
   "outputs": [
    {
     "data": {
      "text/plain": [
       "'l'"
      ]
     },
     "execution_count": 13,
     "metadata": {},
     "output_type": "execute_result"
    }
   ],
   "source": [
    "#You can access a particular character of a string using string1[index]\n",
    "\n",
    "d = 'apple'\n",
    "d[3]\n"
   ]
  },
  {
   "cell_type": "code",
   "execution_count": 14,
   "metadata": {},
   "outputs": [
    {
     "name": "stdout",
     "output_type": "stream",
     "text": [
      "Value of h: True\n",
      "Type of h: <class 'bool'>\n"
     ]
    }
   ],
   "source": [
    "#Boolean represents True or False value. You can directly assign a variable True or False \n",
    "\n",
    "f = True\n",
    "\n",
    "g = False\n",
    "\n",
    "#Or you can assign a variable based on an expression\n",
    "\n",
    "h = (10 > 9)\n",
    "\n",
    "print('Value of h:', h)\n",
    "print('Type of h:', type(h))"
   ]
  },
  {
   "cell_type": "markdown",
   "metadata": {},
   "source": [
    "## Lists\n",
    "\n",
    "A list is a type of data structure in python.  The format of a list is items separated by a comma between square brackets.  A list can be made of items from different data types such as integers, strings and lists. Here are some examples"
   ]
  },
  {
   "cell_type": "code",
   "execution_count": 29,
   "metadata": {},
   "outputs": [],
   "source": [
    "#Here are some examples of lists\n",
    "\n",
    "list_1 = [0, 1, 2, 3, 4, 5, 6, 7, 8, 9, 10]\n",
    "list_2 = ['grapefruit', 'apple', 'orange', 'banana']\n",
    "list_3 = [[1,2,3], [4,5,6], [7,8,9]]\n",
    "list_4 = [5, 2, 3, 9]\n",
    "# This is how you create an empty list\n",
    "\n",
    "list_5 = []"
   ]
  },
  {
   "cell_type": "code",
   "execution_count": 18,
   "metadata": {},
   "outputs": [
    {
     "name": "stdout",
     "output_type": "stream",
     "text": [
      "list_1[3]:  3\n",
      "list_1[4:8]:  [4, 5, 6, 7]\n"
     ]
    }
   ],
   "source": [
    "### Accessing items in the  Lists\n",
    "print(\"list_1[3]: \", list_1[3])\n",
    "print(\"list_1[4:8]: \", list_1[4:8])\n"
   ]
  },
  {
   "cell_type": "code",
   "execution_count": 19,
   "metadata": {},
   "outputs": [
    {
     "name": "stdout",
     "output_type": "stream",
     "text": [
      "list_2[-3]:  apple\n",
      "list_2[-3:]:  ['apple', 'orange', 'banana']\n"
     ]
    }
   ],
   "source": [
    "print(\"list_2[-3]: \", list_2[-3])\n",
    "print(\"list_2[-3:]: \", list_2[-3:])"
   ]
  },
  {
   "cell_type": "code",
   "execution_count": 20,
   "metadata": {},
   "outputs": [
    {
     "name": "stdout",
     "output_type": "stream",
     "text": [
      "list_3[1][2]:  6\n"
     ]
    }
   ],
   "source": [
    "print('list_3[1][2]: ', list_3[1][2])"
   ]
  },
  {
   "cell_type": "code",
   "execution_count": 30,
   "metadata": {},
   "outputs": [
    {
     "name": "stdout",
     "output_type": "stream",
     "text": [
      "length of list_1:  11\n",
      "[1,2,3]+[4,5,6]:  [1, 2, 3, 4, 5, 6]\n",
      "[]+[4,5,6]:  [4, 5, 6]\n",
      "max(list_1):  10\n",
      "min(list_1):  0\n",
      "list_4 sorted [2, 3, 5, 9]\n"
     ]
    }
   ],
   "source": [
    "#Operations with Lists\n",
    "\n",
    "#Length of a list\n",
    "print('length of list_1: ', len(list_1))\n",
    "\n",
    "#Concatenate two lists\n",
    "\n",
    "print('[1,2,3]+[4,5,6]: ', [1,2,3]+[4,5,6])\n",
    "print('[]+[4,5,6]: ', []+[4,5,6])\n",
    "\n",
    "#Max/Min of list\n",
    "\n",
    "print('max(list_1): ', max(list_1))\n",
    "print('min(list_1): ', min(list_1))\n",
    "\n",
    "#Sort\n",
    "list_4.sort()\n",
    "print('list_4 sorted', list_4)"
   ]
  },
  {
   "cell_type": "markdown",
   "metadata": {},
   "source": [
    "## Tuples\n",
    "\n",
    "Tuple is a collection of objects that is ordered and cannot be changed. A tuple contains the objects in parentheses `()`"
   ]
  },
  {
   "cell_type": "code",
   "execution_count": null,
   "metadata": {},
   "outputs": [],
   "source": [
    "#Here is an example of a tuple\n",
    "\n",
    "tuple1 = ('a', 'b', 'c', 'd', 'e')\n",
    "\n",
    "#You can access individual item in a tuple by the index\n",
    "\n",
    "print('tuple1[2]: ', tuple1[2])\n",
    "\n",
    "#You can get the length of a tuple\n",
    "\n",
    "print('length of tuple 1: ', len(tuple1))"
   ]
  },
  {
   "cell_type": "markdown",
   "metadata": {},
   "source": [
    "## Dictionaries"
   ]
  },
  {
   "cell_type": "markdown",
   "metadata": {},
   "source": [
    "A dictionary is a collection of objects with key and value.  It is not ordered and it can be changed.  A dictionary is created with curly brackets `{}`"
   ]
  },
  {
   "cell_type": "markdown",
   "metadata": {},
   "source": [
    "Here is an example of a dictionary.  Suppose you want to create a dictionary that stores the information about a student such as his/her first name, his/her last name, grade in school and age. \n"
   ]
  },
  {
   "cell_type": "code",
   "execution_count": 31,
   "metadata": {},
   "outputs": [],
   "source": [
    "student_dict = {'first_name': 'Tom', 'last_name': 'Jones', 'grade': 8 , \n",
    "               'age': 13}"
   ]
  },
  {
   "cell_type": "markdown",
   "metadata": {},
   "source": [
    "first_name, last_name, grade and age are the keys in this dictionary\n",
    "'Tom' and 'Jones' are the values corresponding to first_name and last_name.\n",
    "\n",
    "You can get the value of a specific key i.e. get the student's first name as follow:"
   ]
  },
  {
   "cell_type": "code",
   "execution_count": 32,
   "metadata": {},
   "outputs": [
    {
     "name": "stdout",
     "output_type": "stream",
     "text": [
      "The value of first name is  Tom\n",
      "The value of first name is  Tom\n"
     ]
    }
   ],
   "source": [
    "print('The value of first name is ', student_dict['first_name'])\n",
    "print('The value of first name is ', student_dict.get('first_name'))"
   ]
  },
  {
   "cell_type": "markdown",
   "metadata": {},
   "source": [
    "You can update the value of a key  as follow:"
   ]
  },
  {
   "cell_type": "code",
   "execution_count": 33,
   "metadata": {},
   "outputs": [
    {
     "name": "stdout",
     "output_type": "stream",
     "text": [
      "The value of first name is  Ken\n"
     ]
    }
   ],
   "source": [
    "student_dict['first_name'] = 'Ken'\n",
    "print('The value of first name is ', student_dict['first_name'])"
   ]
  },
  {
   "cell_type": "markdown",
   "metadata": {},
   "source": [
    "You can add a new key as follow:"
   ]
  },
  {
   "cell_type": "code",
   "execution_count": 34,
   "metadata": {},
   "outputs": [
    {
     "name": "stdout",
     "output_type": "stream",
     "text": [
      "{'first_name': 'Ken', 'last_name': 'Jones', 'grade': 8, 'age': 13, 'school_name': 'Chinook Middle School'}\n"
     ]
    }
   ],
   "source": [
    "student_dict['school_name'] = 'Chinook Middle School'\n",
    "\n",
    "print(student_dict)"
   ]
  },
  {
   "cell_type": "markdown",
   "metadata": {},
   "source": [
    "You can remove a key as follow:"
   ]
  },
  {
   "cell_type": "code",
   "execution_count": 35,
   "metadata": {},
   "outputs": [
    {
     "name": "stdout",
     "output_type": "stream",
     "text": [
      "{'first_name': 'Ken', 'last_name': 'Jones', 'grade': 8, 'school_name': 'Chinook Middle School'}\n"
     ]
    }
   ],
   "source": [
    "student_dict.pop('age')\n",
    "print(student_dict)"
   ]
  },
  {
   "cell_type": "code",
   "execution_count": null,
   "metadata": {},
   "outputs": [],
   "source": []
  }
 ],
 "metadata": {
  "kernelspec": {
   "display_name": "Python 3",
   "language": "python",
   "name": "python3"
  },
  "language_info": {
   "codemirror_mode": {
    "name": "ipython",
    "version": 3
   },
   "file_extension": ".py",
   "mimetype": "text/x-python",
   "name": "python",
   "nbconvert_exporter": "python",
   "pygments_lexer": "ipython3",
   "version": "3.6.10"
  }
 },
 "nbformat": 4,
 "nbformat_minor": 4
}
