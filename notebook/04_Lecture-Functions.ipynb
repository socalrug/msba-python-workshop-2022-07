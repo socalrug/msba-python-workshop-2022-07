{
 "cells": [
  {
   "cell_type": "markdown",
   "metadata": {},
   "source": [
    "### OCI Data Science - Useful Tips\n",
    "Everything stored in the <span style=\"background-color: #d5d8dc \">/home/datascience</span> folder is now stored on your block volume drive. The <span style=\"background-color: #d5d8dc \">ads-examples</span> folder has moved outside of your working space. Notebook examples are now accessible through a Launcher tab \"Notebook Examples\" button.\n",
    "<details>\n",
    "<summary><font size=\"2\">1. Check for Public Internet Access</font></summary>\n",
    "\n",
    "```python\n",
    "import requests\n",
    "response = requests.get(\"https://oracle.com\")\n",
    "assert response.status_code==200, \"Internet connection failed\"\n",
    "```\n",
    "</details>\n",
    "<details>\n",
    "<summary><font size=\"2\">2. OCI Configuration and Key Files Set Up</font></summary><p>Follow the instructions in the getting-started notebook. That notebook is accessible via the \"Getting Started\" Launcher tab button.</p>\n",
    "</details>\n",
    "<details>\n",
    "<summary><font size=\"2\">3. Helpful Documentation </font></summary>\n",
    "<ul><li><a href=\"https://docs.cloud.oracle.com/en-us/iaas/data-science/using/data-science.htm\">Data Science Service Documentation</a></li>\n",
    "<li><a href=\"https://docs.cloud.oracle.com/iaas/tools/ads-sdk/latest/index.html\">ADS documentation</a></li>\n",
    "</ul>\n",
    "</details>\n",
    "<details>\n",
    "<summary><font size=\"2\">4. Typical Cell Imports and Settings</font></summary>\n",
    "\n",
    "```python\n",
    "%load_ext autoreload\n",
    "%autoreload 2\n",
    "%matplotlib inline\n",
    "\n",
    "import warnings\n",
    "warnings.filterwarnings('ignore')\n",
    "\n",
    "import logging\n",
    "logging.basicConfig(format='%(levelname)s:%(message)s', level=logging.ERROR)\n",
    "\n",
    "import ads\n",
    "from ads.dataset.factory import DatasetFactory\n",
    "from ads.automl.provider import OracleAutoMLProvider\n",
    "from ads.automl.driver import AutoML\n",
    "from ads.evaluations.evaluator import ADSEvaluator\n",
    "from ads.common.data import MLData\n",
    "from ads.explanations.explainer import ADSExplainer\n",
    "from ads.explanations.mlx_global_explainer import MLXGlobalExplainer\n",
    "from ads.explanations.mlx_local_explainer import MLXLocalExplainer\n",
    "from ads.catalog.model import ModelCatalog\n",
    "from ads.common.model_artifact import ModelArtifact\n",
    "```\n",
    "</details>\n",
    "<details>\n",
    "<summary><font size=\"2\">5. Useful Environment Variables</font></summary>\n",
    "\n",
    "```python\n",
    "import os\n",
    "print(os.environ[\"NB_SESSION_COMPARTMENT_OCID\"])\n",
    "print(os.environ[\"PROJECT_OCID\"])\n",
    "print(os.environ[\"USER_OCID\"])\n",
    "print(os.environ[\"TENANCY_OCID\"])\n",
    "print(os.environ[\"NB_REGION\"])\n",
    "```\n",
    "</details>"
   ]
  },
  {
   "cell_type": "markdown",
   "metadata": {},
   "source": [
    "# Functions"
   ]
  },
  {
   "cell_type": "markdown",
   "metadata": {},
   "source": [
    "## Module Overview\n",
    "\n",
    "* What are they and why are they important\n",
    "* Function syntax\n",
    "* Tips and best practices"
   ]
  },
  {
   "cell_type": "markdown",
   "metadata": {},
   "source": [
    "### What is a Function?\n",
    "\n",
    "A function is a set of statements that will be executed when it is called, and parameters can be passed into it.   It makes the code re-usable and also more easily readable.  Here is an example of a function that lets you perform the math operation 2*x + 3*y on a set of an input x and y."
   ]
  },
  {
   "cell_type": "code",
   "execution_count": 1,
   "metadata": {},
   "outputs": [],
   "source": [
    "def math_ops(x,y):\n",
    "    return 2*x+3*y"
   ]
  },
  {
   "cell_type": "code",
   "execution_count": 2,
   "metadata": {},
   "outputs": [
    {
     "name": "stdout",
     "output_type": "stream",
     "text": [
      "14\n",
      "19\n",
      "27\n"
     ]
    }
   ],
   "source": [
    "print(math_ops(1,4))\n",
    "print(math_ops(2,5))\n",
    "print(math_ops(3,7))"
   ]
  },
  {
   "cell_type": "markdown",
   "metadata": {},
   "source": [
    "As you can see, you can perform the calculations several times without having to retype the expression every time you have a new set of inputs. "
   ]
  },
  {
   "cell_type": "markdown",
   "metadata": {},
   "source": [
    "## Function syntax\n",
    "Function takes the form:\n",
    "<pre><code>\n",
    "def function_name(parameter(s)):\n",
    "    statement(s)\n",
    "</code></pre>\n",
    "\n",
    "Note on terminology: A parameter is the variable inside the parentheses in the function definition. An argument is the value passed to the function.\n",
    "\n",
    "You can pass in multiple arguments into the function.  They must be separated by a comma.  The same number of arguments in the function definition must be passed into the function when it is called. They also need to be in the same order as the definition.\n"
   ]
  },
  {
   "cell_type": "markdown",
   "metadata": {},
   "source": [
    "#### Arbitrary Arguments\n",
    "If you do not know how many arguments will be passed into the function, you can use `*` in the function definition"
   ]
  },
  {
   "cell_type": "markdown",
   "metadata": {},
   "source": [
    "For example, let's say you want to write a function that sums a sequence in integers together, but you do not know how many integers there are , you can do this."
   ]
  },
  {
   "cell_type": "code",
   "execution_count": 3,
   "metadata": {},
   "outputs": [
    {
     "name": "stdout",
     "output_type": "stream",
     "text": [
      "33\n"
     ]
    }
   ],
   "source": [
    "# sum_integers_args.py\n",
    "def sum_ops(*args):\n",
    "    running_total = 0\n",
    "    for i in args:\n",
    "        running_total += i\n",
    "    return running_total\n",
    "\n",
    "print(sum_ops(9, 5, 4, 8,7))"
   ]
  },
  {
   "cell_type": "markdown",
   "metadata": {},
   "source": [
    "You do not have to name your arbitrary argument args.  You can name it something esle such as `*input`"
   ]
  },
  {
   "cell_type": "markdown",
   "metadata": {},
   "source": [
    "#### Keyword Arguments\n",
    "You can pass in the argument as key = value into the function.  That way, the order of the arguments does not matter."
   ]
  },
  {
   "cell_type": "code",
   "execution_count": 4,
   "metadata": {},
   "outputs": [
    {
     "data": {
      "text/plain": [
       "22"
      ]
     },
     "execution_count": 4,
     "metadata": {},
     "output_type": "execute_result"
    }
   ],
   "source": [
    "def math_ops(x,y):\n",
    "    return 2*x+3*y\n",
    "\n",
    "math_ops(y=4, x= 5)"
   ]
  },
  {
   "cell_type": "markdown",
   "metadata": {},
   "source": [
    "#### Arbitrary Keyword Arguments\n",
    "This is similar to arbitrary arguments. If you do not know how many keyword arguments will be passed into the function, you can add `**` before the keyword arguments in the function definition.  The function will receive the arguments as a dictionary and can access the items accordingly.\n"
   ]
  },
  {
   "cell_type": "code",
   "execution_count": 5,
   "metadata": {},
   "outputs": [],
   "source": [
    "def employee_info(**employee):\n",
    "    print(\"The employee's last name is:\", employee['last_name'],\n",
    "          \"and his/her tenure is\", employee['tenure'])\n",
    "    "
   ]
  },
  {
   "cell_type": "code",
   "execution_count": 6,
   "metadata": {},
   "outputs": [
    {
     "name": "stdout",
     "output_type": "stream",
     "text": [
      "The employee's last name is: Smith and his/her tenure is 8\n"
     ]
    }
   ],
   "source": [
    "employee_info(first_name = 'Bob', last_name = 'Smith', age = 37, tenure = 8)"
   ]
  },
  {
   "cell_type": "markdown",
   "metadata": {},
   "source": [
    "#### return\n",
    "The return statement is used to tell your function to return a value. Typically you will assign the result returned from the function to a variable. "
   ]
  },
  {
   "cell_type": "code",
   "execution_count": 7,
   "metadata": {},
   "outputs": [
    {
     "name": "stdout",
     "output_type": "stream",
     "text": [
      "Vaule of result is : 22\n"
     ]
    }
   ],
   "source": [
    "def math_ops(x,y):\n",
    "    return 2*x+3*y\n",
    "\n",
    "result = math_ops(y=4, x= 5)\n",
    "\n",
    "print('Vaule of result is :', result)"
   ]
  },
  {
   "cell_type": "markdown",
   "metadata": {},
   "source": [
    "### Best Practices\n",
    "\n",
    "* Use functions whenever you have a block of code you expect to reuse repetitively\n",
    "* Keep the purpose of you function to handle one task\n",
    "* Keep the number of parameters for a function low so it is easy for you and other people looking at the code to know how many parameters are needed to pass in and in what order\n",
    "* Name the funcion something meaningful so it is easy to read and easy for end users to figure out the purpose.  This goes for variables also.  "
   ]
  },
  {
   "cell_type": "code",
   "execution_count": null,
   "metadata": {},
   "outputs": [],
   "source": []
  },
  {
   "cell_type": "code",
   "execution_count": null,
   "metadata": {},
   "outputs": [],
   "source": []
  }
 ],
 "metadata": {
  "kernelspec": {
   "display_name": "Python 3",
   "language": "python",
   "name": "python3"
  },
  "language_info": {
   "codemirror_mode": {
    "name": "ipython",
    "version": 3
   },
   "file_extension": ".py",
   "mimetype": "text/x-python",
   "name": "python",
   "nbconvert_exporter": "python",
   "pygments_lexer": "ipython3",
   "version": "3.6.10"
  }
 },
 "nbformat": 4,
 "nbformat_minor": 4
}
