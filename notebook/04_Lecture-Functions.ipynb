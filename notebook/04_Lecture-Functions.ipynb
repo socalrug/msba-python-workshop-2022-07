{
 "cells": [
  {
   "cell_type": "markdown",
   "metadata": {},
   "source": [
    "# Functions"
   ]
  },
  {
   "cell_type": "markdown",
   "metadata": {},
   "source": [
    "## Module Overview\n",
    "\n",
    "* What are they and why are they important\n",
    "* Function syntax\n",
    "* Tips and best practices"
   ]
  },
  {
   "cell_type": "markdown",
   "metadata": {},
   "source": [
    "### What is a Function?\n",
    "\n",
    "A function is a set of statements that will be executed when it is called, and parameters can be passed into it.   It makes the code re-usable and also more easily readable.  Here is an example of a function that lets you perform the math operation 2*x + 3*y on a set of an input x and y."
   ]
  },
  {
   "cell_type": "code",
   "execution_count": null,
   "metadata": {},
   "outputs": [],
   "source": [
    "def math_ops(x,y):\n",
    "    return 2*x+3*y"
   ]
  },
  {
   "cell_type": "code",
   "execution_count": null,
   "metadata": {},
   "outputs": [],
   "source": [
    "print(math_ops(1,4))\n",
    "print(math_ops(2,5))\n",
    "print(math_ops(3,7))"
   ]
  },
  {
   "cell_type": "markdown",
   "metadata": {},
   "source": [
    "As you can see, you can perform the calculations several times without having to retype the expression every time you have a new set of inputs. "
   ]
  },
  {
   "cell_type": "markdown",
   "metadata": {},
   "source": [
    "## Function syntax\n",
    "Function takes the form:\n",
    "<pre><code>\n",
    "def function_name(parameter(s)):\n",
    "    statement(s)\n",
    "</code></pre>\n",
    "\n",
    "Note on terminology: A parameter is the variable inside the parentheses in the function definition. An argument is the value passed to the function.\n",
    "\n",
    "You can pass in multiple arguments into the function.  They must be separated by a comma.  The same number of arguments in the function definition must be passed into the function when it is called. They also need to be in the same order as the definition.\n"
   ]
  },
  {
   "cell_type": "markdown",
   "metadata": {},
   "source": [
    "#### Arbitrary Arguments\n",
    "If you do not know how many arguments will be passed into the function, you can use `*` in the function definition"
   ]
  },
  {
   "cell_type": "markdown",
   "metadata": {},
   "source": [
    "For example, let's say you want to write a function that sums a sequence in integers together, but you do not know how many integers there are , you can do this."
   ]
  },
  {
   "cell_type": "code",
   "execution_count": null,
   "metadata": {},
   "outputs": [],
   "source": [
    "# sum_integers_args.py\n",
    "def sum_ops(*args):\n",
    "    running_total = 0\n",
    "    for i in args:\n",
    "        running_total += i\n",
    "    return running_total\n",
    "\n",
    "print(sum_ops(9, 5, 4, 8,7))"
   ]
  },
  {
   "cell_type": "markdown",
   "metadata": {},
   "source": [
    "You do not have to name your arbitrary argument args.  You can name it something esle such as `*input`"
   ]
  },
  {
   "cell_type": "markdown",
   "metadata": {},
   "source": [
    "#### Keyword Arguments\n",
    "You can pass in the argument as key = value into the function.  That way, the order of the arguments does not matter."
   ]
  },
  {
   "cell_type": "code",
   "execution_count": null,
   "metadata": {},
   "outputs": [],
   "source": [
    "def math_ops(x,y):\n",
    "    return 2*x+3*y\n",
    "\n",
    "math_ops(y=4, x= 5)"
   ]
  },
  {
   "cell_type": "markdown",
   "metadata": {},
   "source": [
    "#### Arbitrary Keyword Arguments\n",
    "This is similar to arbitrary arguments. If you do not know how many keyword arguments will be passed into the function, you can add `**` before the keyword arguments in the function definition.  The function will receive the arguments as a dictionary and can access the items accordingly.\n"
   ]
  },
  {
   "cell_type": "code",
   "execution_count": null,
   "metadata": {},
   "outputs": [],
   "source": [
    "def employee_info(**employee):\n",
    "    print(\"The employee's last name is:\", employee['last_name'],\n",
    "          \"and his/her tenure is\", employee['tenure'])\n",
    "    "
   ]
  },
  {
   "cell_type": "code",
   "execution_count": null,
   "metadata": {},
   "outputs": [],
   "source": [
    "employee_info(first_name = 'Bob', last_name = 'Smith', age = 37, tenure = 8)"
   ]
  },
  {
   "cell_type": "markdown",
   "metadata": {},
   "source": [
    "#### return\n",
    "The return statement is used to tell your function to return a value. Typically you will assign the result returned from the function to a variable. "
   ]
  },
  {
   "cell_type": "code",
   "execution_count": null,
   "metadata": {},
   "outputs": [],
   "source": [
    "def math_ops(x,y):\n",
    "    return 2*x+3*y\n",
    "\n",
    "result = math_ops(y=4, x= 5)\n",
    "\n",
    "print('Vaule of result is :', result)"
   ]
  },
  {
   "cell_type": "markdown",
   "metadata": {},
   "source": [
    "### Best Practices\n",
    "\n",
    "* Use functions whenever you have a block of code you expect to reuse repetitively\n",
    "* Keep the purpose of you function to handle one task\n",
    "* Keep the number of parameters for a function low so it is easy for you and other people looking at the code to know how many parameters are needed to pass in and in what order\n",
    "* Name the funcion something meaningful so it is easy to read and easy for end users to figure out the purpose.  This goes for variables also.  "
   ]
  }
 ],
 "metadata": {
  "kernelspec": {
   "display_name": "Python 3.9.5 - rstudio",
   "language": "python",
   "name": "rstudio-user-3.9.5"
  },
  "language_info": {
   "codemirror_mode": {
    "name": "ipython",
    "version": 3
   },
   "file_extension": ".py",
   "mimetype": "text/x-python",
   "name": "python",
   "nbconvert_exporter": "python",
   "pygments_lexer": "ipython3",
   "version": "3.9.5"
  }
 },
 "nbformat": 4,
 "nbformat_minor": 4
}
