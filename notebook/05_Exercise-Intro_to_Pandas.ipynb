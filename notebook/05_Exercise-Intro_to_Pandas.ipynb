{
 "cells": [
  {
   "cell_type": "markdown",
   "metadata": {},
   "source": [
    "# A Brief Introduction to Pandas -- Exercises"
   ]
  },
  {
   "cell_type": "markdown",
   "metadata": {},
   "source": [
    "## Goal\n",
    "\n",
    "Practice `pandas` basics and working with `DataFrames`"
   ]
  },
  {
   "cell_type": "markdown",
   "metadata": {},
   "source": [
    "## Exercises"
   ]
  },
  {
   "cell_type": "markdown",
   "metadata": {},
   "source": [
    "### 1. How do you import the `pandas` package (use community standards)?"
   ]
  },
  {
   "cell_type": "code",
   "execution_count": null,
   "metadata": {},
   "outputs": [],
   "source": []
  },
  {
   "cell_type": "markdown",
   "metadata": {},
   "source": [
    "### 2. One way to make a `DataFrame` is to create one from a Python dictionary.  Create a dictionary that mirrors the table below, and use this to create a `pandas` `DataFrame`.\n",
    "\n",
    "| last_name  | first_name | age | major       | graduation_year |\n",
    "| ---        | ---        | --- | ---         | ---             |\n",
    "| Snow       | John       | 23  | English     | 2025            |\n",
    "| Targaryen  | Daenerys   | 23  | Mathematics | 2024            |\n",
    "| Lannister  | Tyrion     | 39  | Economics   | 2024            |\n",
    "| Stark      | Arya       | 18  | History     | 2023            |"
   ]
  },
  {
   "cell_type": "code",
   "execution_count": null,
   "metadata": {},
   "outputs": [],
   "source": []
  },
  {
   "cell_type": "markdown",
   "metadata": {},
   "source": [
    "### 3. What are the `pandas` functions to get basic information about the `DataFrame` above?\n",
    "- Number of rows and columns (single command)\n",
    "- Number of rows and columns, individually\n",
    "- The names of the columns\n",
    "- The data types for each of the columns\n",
    "- Overall summary of the `DataFrame` (using one command)"
   ]
  },
  {
   "cell_type": "code",
   "execution_count": null,
   "metadata": {},
   "outputs": [],
   "source": []
  },
  {
   "cell_type": "markdown",
   "metadata": {},
   "source": [
    "### 4. Compute the sum of the `age` column using `pandas` operations on the `DataFrame` (don't calculate directly)"
   ]
  },
  {
   "cell_type": "code",
   "execution_count": null,
   "metadata": {},
   "outputs": [],
   "source": []
  },
  {
   "cell_type": "markdown",
   "metadata": {},
   "source": [
    "### 5. Find the (direct) link to a .csv file online and use `pandas` to read this data into Python\n",
    "\n",
    "Try Google searching for a topic that might have open data on the web (e.g. weather)\n",
    "\n",
    "If you're really stuck try looking around here:\n",
    "https://earthquake.usgs.gov/earthquakes/feed/v1.0/csv.php"
   ]
  },
  {
   "cell_type": "code",
   "execution_count": null,
   "metadata": {},
   "outputs": [],
   "source": []
  }
 ],
 "metadata": {
  "kernelspec": {
   "display_name": "Python 3",
   "language": "python",
   "name": "python3"
  },
  "language_info": {
   "codemirror_mode": {
    "name": "ipython",
    "version": 3
   },
   "file_extension": ".py",
   "mimetype": "text/x-python",
   "name": "python",
   "nbconvert_exporter": "python",
   "pygments_lexer": "ipython3",
   "version": "3.7.6"
  }
 },
 "nbformat": 4,
 "nbformat_minor": 4
}
