{
 "cells": [
  {
   "cell_type": "markdown",
   "metadata": {},
   "source": [
    "# A Brief Introduction to Pandas"
   ]
  },
  {
   "cell_type": "markdown",
   "metadata": {},
   "source": [
    "## Module Overview\n",
    "\n",
    "[`pandas`](https://pandas.pydata.org) is an essential package for anyone doing data analysis in Python.  It provides fundamental data structures ([Series](https://pandas.pydata.org/pandas-docs/stable/reference/api/pandas.Series.html) and [DataFrames](https://pandas.pydata.org/pandas-docs/stable/reference/api/pandas.DataFrame.html)) that make working with data much easier and more intuitive.  Pandas helps you to focus on the data analysis problems you're trying to solve, rather than the coding mechanics of how to solve them.\n",
    "\n",
    "The `pandas` package is deep and there's lots to learn (more than we can cover in this workshop!), but some of the main functionality it provides are:\n",
    "\n",
    "* functions for reading data into Python\n",
    "* data structures for storing, transforming and manipulating data\n",
    "* functions for subsetting data tables\n",
    "* functions for reshaping data\n",
    "* functions for performing grouped data operations\n",
    "* functions for making basic plots (using [`matplotlib`](https://matplotlib.org) under the covers)\n",
    "\n",
    "In this module of the workshop, we'll cover 4 main aspects of `pandas` which represent some of the most frequently encountered data analysis tasks:\n",
    "\n",
    "1. Introduction to working with tabular data (`DataFrames`) using `pandas`\n",
    "2. How to subset `DataFrames` to focus in on the data you want\n",
    "3. The basics of reshaping and combining data\n",
    "4. Basic data visualization using `pandas`"
   ]
  },
  {
   "cell_type": "markdown",
   "metadata": {},
   "source": [
    "## In this section, we'll cover\n",
    "\n",
    "* What is tabular data and why is it important for doing data analysis?\n",
    "* How `pandas` stores tabular data using `Series` and `DataFrames`\n",
    "* Basic operations on `Series` and `DataFrames`\n",
    "* How to read and write data using `pandas`"
   ]
  },
  {
   "cell_type": "markdown",
   "metadata": {},
   "source": [
    "### What is Tabular Data and Why is it Important?\n",
    "\n",
    "Tabular data is simply a rectangular, 2-dimension table of data.  You've likely seen or worked with tabular data in many different contexts:\n",
    "\n",
    "* Excel spreadsheets\n",
    "* Data you've collected or entered yourself (e.g. in a notebook, or spreadsheet)\n",
    "* In textbooks, presentations, journal articles\n",
    "* As column separate values (.csv) files\n",
    "* As a database table\n",
    "\n",
    "Tabular data is one of the most widely used ways of organizing data.  While not all data can be represented as a 2-dimensional table, lots (most?) data you'll typically encounter can be, or at least can be transformed into this structure.\n",
    "\n",
    "In `pandas` tabular data is stored in a format (a data structure) known as a `DataFrame`.  A `DataFrame` looks just like typical data table (image from pandas.pydata.org):\n",
    "\n",
    "![](https://pandas.pydata.org/docs/_images/01_table_dataframe1.svg)\n",
    "\n",
    "As the image shows, a `DataFrame` is a rectangular table of data with rows and columns that intersect to give individual cells that store data values.  The rows and columns provide important structure: data along a given row or a given column are (typically) related in some way.\n",
    "\n",
    "Often times, columns represent *variables* or specific attributes that are measured, while rows represent *observations* or the things that the measurements are being made on.  For example, if a teacher wanted to store information about their students, column might represent something about a student (e.g. their name, their age, their major), and each row would correspond to a particular student with their information group together in a single row."
   ]
  },
  {
   "cell_type": "markdown",
   "metadata": {},
   "source": [
    "### DataFrame Basics\n",
    "\n",
    "A `DataFrame` is a specific data structure provided by the `pandas` package that's used to store tabular data.  One way to create a `DataFrame` is to make one yourself (in code):"
   ]
  },
  {
   "cell_type": "code",
   "execution_count": null,
   "metadata": {},
   "outputs": [],
   "source": [
    "# This is how you import the pandas package for\n",
    "# use in your own scripts; pd is the community accepted\n",
    "# alias for the pandas package -- you should use it as well\n",
    "import pandas as pd\n",
    "\n",
    "# We'll create a DataFrame from a Dictionary\n",
    "dataDict = {\"Name\": [\"John\", \"Mary\", \"Sue\"], \\\n",
    "            \"Age\": [23, 26, 19], \\\n",
    "            \"Major\": [\"Chemistry\", \"Economics\", \"Mathematics\"]}\n",
    "\n",
    "myDF = pd.DataFrame(dataDict)\n",
    "\n",
    "myDF"
   ]
  },
  {
   "cell_type": "markdown",
   "metadata": {},
   "source": [
    "More typically though, you'll want to read data in from another source, for example and Excel spreadsheet or a delimited text file (e.g. a .csv file).  `pandas` provides function for reading these types of files, and lots more."
   ]
  },
  {
   "cell_type": "code",
   "execution_count": null,
   "metadata": {},
   "outputs": [],
   "source": [
    "# Read a .csv file with information about penguins using read_csv\n",
    "# https://github.com/allisonhorst/palmerpenguins\n",
    "\n",
    "# you need to supply the path to the csv file\n",
    "# this path might be a path to a file on your computer\n",
    "# or can even be a web URL (that links directly to a raw .csv file)\n",
    "penguins = pd.read_csv(\"https://raw.githubusercontent.com/allisonhorst/palmerpenguins/master/inst/extdata/penguins.csv\")\n",
    "\n",
    "# in a Jupyter notebook, just type the name of the DataFrame variable\n",
    "# as the last command in the cell to see a nice display of the table\n",
    "penguins"
   ]
  },
  {
   "cell_type": "markdown",
   "metadata": {},
   "source": [
    "Once you have a DataFrame, there are several basic operations you can perform on it to better understand what's there:"
   ]
  },
  {
   "cell_type": "code",
   "execution_count": null,
   "metadata": {},
   "outputs": [],
   "source": [
    "# Check that penguins is in fact a data frame\n",
    "type(penguins)"
   ]
  },
  {
   "cell_type": "code",
   "execution_count": null,
   "metadata": {},
   "outputs": [],
   "source": [
    "# Show the first 5 rows (how could you show the first 10?)\n",
    "penguins.head(5)"
   ]
  },
  {
   "cell_type": "code",
   "execution_count": null,
   "metadata": {},
   "outputs": [],
   "source": [
    "# Show the last 5 rows\n",
    "penguins.tail(5)"
   ]
  },
  {
   "cell_type": "code",
   "execution_count": null,
   "metadata": {},
   "outputs": [],
   "source": [
    "# Get the number of rows and columns (you can index this to get one or the other)\n",
    "penguins.shape"
   ]
  },
  {
   "cell_type": "code",
   "execution_count": null,
   "metadata": {},
   "outputs": [],
   "source": [
    "# Get the column names\n",
    "penguins.columns"
   ]
  },
  {
   "cell_type": "code",
   "execution_count": null,
   "metadata": {},
   "outputs": [],
   "source": [
    "# Get the column names as a list\n",
    "list(penguins.columns)"
   ]
  },
  {
   "cell_type": "code",
   "execution_count": null,
   "metadata": {},
   "outputs": [],
   "source": [
    "# What are the data types of the columns\n",
    "# Important -- these are pandas data types (not python or numpy types)\n",
    "penguins.dtypes"
   ]
  },
  {
   "cell_type": "code",
   "execution_count": null,
   "metadata": {},
   "outputs": [],
   "source": [
    "# General info about the DataFrame\n",
    "penguins.info()"
   ]
  },
  {
   "cell_type": "markdown",
   "metadata": {},
   "source": [
    "One important concept is that a `DataFrame` is made up of individual `Series` objects.  Whereas a `DataFrame` is a 2-dimensional data structure, a `Series` is a 1-dimensional data structure.  Each column in a `DataFrame` is a `Series`. `pandas` provides lots of different functions for working with both `DataFrames` and `Series`."
   ]
  },
  {
   "cell_type": "code",
   "execution_count": null,
   "metadata": {},
   "outputs": [],
   "source": [
    "# You can get any column of data by indexing with its column name\n",
    "species = penguins[\"species\"]\n",
    "\n",
    "species"
   ]
  },
  {
   "cell_type": "code",
   "execution_count": null,
   "metadata": {},
   "outputs": [],
   "source": [
    "# This should be a series\n",
    "type(species)"
   ]
  },
  {
   "cell_type": "markdown",
   "metadata": {},
   "source": [
    "You can operate with Series using a variety of functions:"
   ]
  },
  {
   "cell_type": "code",
   "execution_count": null,
   "metadata": {},
   "outputs": [],
   "source": [
    "penguins[\"body_mass_g\"].min()"
   ]
  },
  {
   "cell_type": "code",
   "execution_count": null,
   "metadata": {},
   "outputs": [],
   "source": [
    "penguins[\"body_mass_g\"].max()"
   ]
  },
  {
   "cell_type": "code",
   "execution_count": null,
   "metadata": {},
   "outputs": [],
   "source": [
    "penguins[\"body_mass_g\"].mean()"
   ]
  },
  {
   "cell_type": "code",
   "execution_count": null,
   "metadata": {},
   "outputs": [],
   "source": [
    "penguins[\"body_mass_g\"].describe()"
   ]
  },
  {
   "cell_type": "markdown",
   "metadata": {},
   "source": [
    "## Main Points\n",
    "\n",
    "* Tabular data is data arranged in a 2-dimensional rectangular table\n",
    "* Lots of data sets can be naturally represented in a tabular format\n",
    "* A tabular data set has rows and columns that intersect at cells that hold the underlying data\n",
    "* The `pandas` python package provides a `DataFrame` data structure for storing tabular data\n",
    "* You can create `DataFrames` explicitly using code, or more likely, by reading data into Python using one of `pandas` `read_*` functions.\n",
    "* A `pandas` `DataFrame` is represented as a collection of 1-dimensional `Series`, one for each column in the table.\n",
    "* One of the easiest ways to access and operate on the columns of a `DataFrame` using the column names"
   ]
  }
 ],
 "metadata": {
  "kernelspec": {
   "display_name": "Python 3.9.5 - rstudio",
   "language": "python",
   "name": "rstudio-user-3.9.5"
  },
  "language_info": {
   "codemirror_mode": {
    "name": "ipython",
    "version": 3
   },
   "file_extension": ".py",
   "mimetype": "text/x-python",
   "name": "python",
   "nbconvert_exporter": "python",
   "pygments_lexer": "ipython3",
   "version": "3.9.5"
  }
 },
 "nbformat": 4,
 "nbformat_minor": 4
}
