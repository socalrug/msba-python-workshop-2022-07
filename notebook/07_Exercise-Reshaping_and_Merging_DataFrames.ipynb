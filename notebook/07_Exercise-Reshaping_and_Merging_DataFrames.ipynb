{
 "cells": [
  {
   "cell_type": "markdown",
   "metadata": {},
   "source": [
    "# Reshaping and Merging `DataFrames` -- Exercises"
   ]
  },
  {
   "cell_type": "markdown",
   "metadata": {},
   "source": [
    "## Goal\n",
    "\n",
    "Practice reshaping with `pivot` and `melt`, and merging with `concat` and `merge`"
   ]
  },
  {
   "cell_type": "markdown",
   "metadata": {},
   "source": [
    "## Exercises"
   ]
  },
  {
   "cell_type": "markdown",
   "metadata": {},
   "source": [
    "### 0. Import `pandas` and load the gapminder data set"
   ]
  },
  {
   "cell_type": "code",
   "execution_count": null,
   "metadata": {},
   "outputs": [],
   "source": []
  },
  {
   "cell_type": "markdown",
   "metadata": {},
   "source": [
    "### 1. Make a wide version of the data giving the population for each year across the countries, with each country as an individual column"
   ]
  },
  {
   "cell_type": "code",
   "execution_count": null,
   "metadata": {},
   "outputs": [],
   "source": []
  },
  {
   "cell_type": "markdown",
   "metadata": {},
   "source": [
    "### 2a. Create a subset of the gapminder data following these steps:\n",
    "1. Get data for just Belgium and Uganda\n",
    "2. Exclude the first 3 rows of this subset\n",
    "3. Get just the country, year and population columns\n",
    "\n",
    "Hint: you don't need to do the steps in a single expression; take it step by step\n",
    "Hint: you can use the slice operator, `start_index:end_index`, to specify a range of rows to select"
   ]
  },
  {
   "cell_type": "code",
   "execution_count": null,
   "metadata": {},
   "outputs": [],
   "source": []
  },
  {
   "cell_type": "markdown",
   "metadata": {},
   "source": [
    "### 2b. Make a wide version of the data table you created in 2a, with years along the rows, countries along the columns, and population for the values.  Why are there missing values?"
   ]
  },
  {
   "cell_type": "code",
   "execution_count": null,
   "metadata": {},
   "outputs": [],
   "source": []
  },
  {
   "cell_type": "markdown",
   "metadata": {},
   "source": [
    "### 2c. Convert the wide data from 2b back to long format (like the original) and compare the results to those from 2a.  Are they the same or different? Why?  What does this say about pivot and melt being strict inverses of each other?"
   ]
  },
  {
   "cell_type": "code",
   "execution_count": null,
   "metadata": {},
   "outputs": [],
   "source": []
  },
  {
   "cell_type": "markdown",
   "metadata": {},
   "source": [
    "### 3. Create a new hypothetical country, measurement year, and other data values, and add this to the gapminder data table"
   ]
  },
  {
   "cell_type": "code",
   "execution_count": null,
   "metadata": {},
   "outputs": [],
   "source": []
  },
  {
   "cell_type": "markdown",
   "metadata": {},
   "source": [
    "### 4. A `DataFrame` with hemisphere location (north or south) for a few countries is given below.  Consider merging this data into the gapminder data set - how would the output differ if you did a \"right\" merge versus a \"left\" merge?  Do the two merges to confirm your guess."
   ]
  },
  {
   "cell_type": "code",
   "execution_count": null,
   "metadata": {},
   "outputs": [],
   "source": [
    "hemisphere_data = pd.DataFrame({\"country\": [\"United States\", \"Chile\", \"India\", \"New Zealand\"], \\\n",
    "                                \"hemisphere\": [\"north\", \"south\", \"north\", \"south\"]})\n",
    "hemisphere_data"
   ]
  }
 ],
 "metadata": {
  "kernelspec": {
   "display_name": "Python 3",
   "language": "python",
   "name": "python3"
  },
  "language_info": {
   "codemirror_mode": {
    "name": "ipython",
    "version": 3
   },
   "file_extension": ".py",
   "mimetype": "text/x-python",
   "name": "python",
   "nbconvert_exporter": "python",
   "pygments_lexer": "ipython3",
   "version": "3.7.6"
  }
 },
 "nbformat": 4,
 "nbformat_minor": 4
}
