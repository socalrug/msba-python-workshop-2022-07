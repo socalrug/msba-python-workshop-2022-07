{
 "cells": [
  {
   "cell_type": "markdown",
   "metadata": {},
   "source": [
    "# Reshaping and Merging `DataFrames` -- Exercises"
   ]
  },
  {
   "cell_type": "markdown",
   "metadata": {},
   "source": [
    "## Goal\n",
    "\n",
    "Practice reshaping with `pivot` and `melt`, and merging with `concat` and `merge`"
   ]
  },
  {
   "cell_type": "markdown",
   "metadata": {},
   "source": [
    "## Exercises"
   ]
  },
  {
   "cell_type": "markdown",
   "metadata": {},
   "source": [
    "### 0. Import `pandas` and load the gapminder data set"
   ]
  },
  {
   "cell_type": "code",
   "execution_count": null,
   "metadata": {},
   "outputs": [],
   "source": [
    "import pandas as pd\n",
    "\n",
    "# This is actually a tab separated file (not comma); still use read_csv, but specify the tab separator\n",
    "gapminder = pd.read_csv(\"https://raw.githubusercontent.com/jennybc/gapminder/master/inst/extdata/gapminder.tsv\", sep=\"\\t\")"
   ]
  },
  {
   "cell_type": "markdown",
   "metadata": {},
   "source": [
    "### 1. Make a wide version of the data giving the population for each year across the countries, with each country as an individual column"
   ]
  },
  {
   "cell_type": "code",
   "execution_count": null,
   "metadata": {},
   "outputs": [],
   "source": [
    "# Each row represents a specific year, and we need to pivot the countries to the columns\n",
    "gapminder.pivot(index=\"year\", columns=\"country\", values=\"pop\")"
   ]
  },
  {
   "cell_type": "markdown",
   "metadata": {},
   "source": [
    "### 2a. Create a subset of the gapminder data following these steps:\n",
    "1. Get data for just Belgium and Uganda\n",
    "2. Exclude the first 3 rows of this subset\n",
    "3. Get just the country, year and population columns\n",
    "\n",
    "Hint: you don't need to do the steps in a single expression; take it step by step\n",
    "Hint: you can use the slice operator, `start_index:end_index`, to specify a range of rows to select"
   ]
  },
  {
   "cell_type": "code",
   "execution_count": null,
   "metadata": {},
   "outputs": [],
   "source": [
    "# First get just the countries indicated\n",
    "bu_data = gapminder[gapminder[\"country\"].isin([\"Belgium\", \"Uganda\"])]\n",
    "\n",
    "# Next, make a slice to remove the first 3 rows\n",
    "bu_data = bu_data[3:bu_data.shape[0]]\n",
    "\n",
    "# Finally get the indicated columns\n",
    "# Also reset the row indices so we can easily count the number of rows\n",
    "bu_data = bu_data[[\"country\", \"year\", \"pop\"]].reset_index(drop = True)\n",
    "\n",
    "bu_data"
   ]
  },
  {
   "cell_type": "markdown",
   "metadata": {},
   "source": [
    "### 2b. Make a wide version of the data table you created in 2a, with years along the rows, countries along the columns, and population for the values.  Why are there missing values?"
   ]
  },
  {
   "cell_type": "code",
   "execution_count": null,
   "metadata": {},
   "outputs": [],
   "source": [
    "# Pivot like above\n",
    "bu_data_wide = bu_data.pivot(index=\"year\", columns=\"country\", values=\"pop\").reset_index()\n",
    "bu_data_wide\n",
    "\n",
    "# The missing values in the ouput are due to removing the first three rows in the step above.\n",
    "# We removed data for Belguium for years 1952, 1957 and 1962, however Uganda has data for these\n",
    "# years.  This creates \"holes\" in the pivoted data table which get filled in with NaN (missing values)."
   ]
  },
  {
   "cell_type": "markdown",
   "metadata": {},
   "source": [
    "### 2c. Convert the wide data from 2b back to long format (like the original) and compare the results to those from 2a.  Are they the same or different? Why?  What does this say about pivot and melt being strict inverses of each other?"
   ]
  },
  {
   "cell_type": "code",
   "execution_count": null,
   "metadata": {},
   "outputs": [],
   "source": [
    "# Melt the wide data to get back to long data\n",
    "bu_data_long = bu_data_wide.melt(id_vars=\"year\")\n",
    "bu_data_long\n",
    "\n",
    "# Aside from the different ordering of the columns, the results from 2a are different:\n",
    "# 2a had 21 rows, while we have 24 rows here.\n",
    "# When 2a was made wider, missing values were generated in the resulting table because\n",
    "# we removed the first 3 rows in 2a.  Melting back to long form preserves these missing\n",
    "# entries resulting in a longer table vs. the 2a (we got the first 3 rows back but with missing data)\n",
    "#\n",
    "# This means that pivoting data from long to wide forms, then melting back to long doesn't mean you'll\n",
    "# necessarily get back the exact same data table you started with."
   ]
  },
  {
   "cell_type": "markdown",
   "metadata": {},
   "source": [
    "### 3. Create a new hypothetical country, measurement year, and other data values, and add this to the gapminder data table"
   ]
  },
  {
   "cell_type": "code",
   "execution_count": null,
   "metadata": {},
   "outputs": [],
   "source": [
    "# Need to make sure the same column names are used\n",
    "hypo_data = {\"country\": [\"Kingdom of the North\"], \\\n",
    "             \"continent\": [\"Westeros\"], \\\n",
    "             \"year\": [297], \\\n",
    "             \"lifeExp\": [42], \\\n",
    "             \"pop\": [3750000], \\\n",
    "             \"gdpPercap\": [50]}\n",
    "hypo_df = pd.DataFrame(hypo_data)\n",
    "\n",
    "# This adds the above data as a new row in the table\n",
    "pd.concat([gapminder, hypo_df])"
   ]
  },
  {
   "cell_type": "markdown",
   "metadata": {},
   "source": [
    "### 4. A `DataFrame` with hemisphere location (north or south) for a few countries is given below.  Consider merging this data into the gapminder data set - how would the output differ if you did a \"right\" merge versus a \"left\" merge?  Do the two merges to confirm your guess."
   ]
  },
  {
   "cell_type": "code",
   "execution_count": null,
   "metadata": {},
   "outputs": [],
   "source": [
    "hemisphere_data = pd.DataFrame({\"country\": [\"United States\", \"Chile\", \"India\", \"New Zealand\"], \\\n",
    "                                \"hemisphere\": [\"north\", \"south\", \"north\", \"south\"]})\n",
    "hemisphere_data"
   ]
  },
  {
   "cell_type": "code",
   "execution_count": null,
   "metadata": {},
   "outputs": [],
   "source": [
    "# == First the left merge\n",
    "# The left merge will keep all of the rows in the first data table given in \n",
    "# the merge command; here we used the gapminder data set so we'd expect to\n",
    "# have a very long output table with all the rows from the gapminder set.\n",
    "#\n",
    "# Note that we have a new column called hemisphere in the output, but\n",
    "# most values are NaN... why?\n",
    "#\n",
    "left_merge = pd.merge(gapminder, hemisphere_data, how=\"left\", on=\"country\")\n",
    "left_merge"
   ]
  },
  {
   "cell_type": "code",
   "execution_count": null,
   "metadata": {},
   "outputs": [],
   "source": [
    "# Subset to the countries present in hemisphere data to make sure\n",
    "# the data provided is actually in the table\n",
    "left_merge[left_merge[\"country\"].isin([\"United States\", \"Chile\", \"India\", \"New Zealand\"])].reset_index(drop=True)"
   ]
  },
  {
   "cell_type": "code",
   "execution_count": null,
   "metadata": {},
   "outputs": [],
   "source": [
    "# == Now the right merge\n",
    "# In this case, the \"right\" or second table given in the merge command is\n",
    "# the hemisphere data from above.  In this case, we expect to only\n",
    "# get the countries present in the hemisphere data\n",
    "#\n",
    "# Note: the right merge acted like a left merge + subset!\n",
    "right_merge = pd.merge(gapminder, hemisphere_data, how=\"right\", on=\"country\")\n",
    "right_merge"
   ]
  }
 ],
 "metadata": {
  "kernelspec": {
   "display_name": "Python 3",
   "language": "python",
   "name": "python3"
  },
  "language_info": {
   "codemirror_mode": {
    "name": "ipython",
    "version": 3
   },
   "file_extension": ".py",
   "mimetype": "text/x-python",
   "name": "python",
   "nbconvert_exporter": "python",
   "pygments_lexer": "ipython3",
   "version": "3.6.10"
  }
 },
 "nbformat": 4,
 "nbformat_minor": 4
}
