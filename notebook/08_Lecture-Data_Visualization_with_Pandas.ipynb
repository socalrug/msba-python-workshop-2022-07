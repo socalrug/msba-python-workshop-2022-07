{
 "cells": [
  {
   "cell_type": "markdown",
   "metadata": {},
   "source": [
    "# Basic Plotting with `pandas`"
   ]
  },
  {
   "cell_type": "markdown",
   "metadata": {},
   "source": [
    "## In this section, we'll cover\n",
    "\n",
    "- The difference between exploratory and explanitory plots\n",
    "- How to make basic plots directly from `pandas` using the `plot` family of functions\n",
    "- Review several plotting examples to show some of the basic plots you can make with `pandas`"
   ]
  },
  {
   "cell_type": "markdown",
   "metadata": {},
   "source": [
    "## Data Visualization Helps you Understand and Communicate Data\n",
    "\n",
    "Visualizing data is one of the most important things you can do to better understand the data you're working with.  While looking at tables, computing statistical summaries, fitting models, etc. can give you important insight into a data set, even simple visualizations can often help you to understand data more effectively than other methods.  Anyone who works with data will need to become proficient at producting data visualizations.\n",
    "\n",
    "Data visualization is sometimes split into to categories, based on their aims and intended audiences:\n",
    "\n",
    "- **Exploratory**: data visualizations that are produced in order to help the data analyst understand what's there, how the data is structured, if there are patterns, if there are problems, etc.  Exploratory visualizations are often produced frequently and quickly during the course of an analysis since their aim is to help one understand what might be in the data.\n",
    "- **Explanitory**: data visualizations that are produced in order to convey a message that's represented or supported by the underlying data. Explanitory visualizations are often produced after you understand what's in the data and what message you want to communicate.  Explanitory visualizations usually take longer to make and are more polished than exploratory visualizations.\n",
    "\n",
    "In this section, we'll cover focus mainly on exploratory visualizations so that we can focus on the coding syntax and approaches to quickly create plots from data."
   ]
  },
  {
   "cell_type": "markdown",
   "metadata": {},
   "source": [
    "## Data Visualization in Python and `pandas`\n",
    "\n",
    "Python has a rich ecosystem of packages for making data visualizations.  Some of the most well known include:\n",
    "- [matplotlib](https://matplotlib.org)\n",
    "- [seaborn](https://seaborn.pydata.org)\n",
    "- [Bokeh](https://docs.bokeh.org/en/latest/index.html)\n",
    "- [Plotly](https://plotly.com/python/)\n",
    "- and many, many others...\n",
    "\n",
    "Chosing a visualization library is largely one of preference and where/how you intend to use it (e.g. as static images, as interactive graphic, use on the web), and its ofen helpful to learn several.  \n",
    "\n",
    "One option for generating quick visualizations is to use the plotting capabilities built into `pandas`.  On the backend, `pandas` uses the `matplotlib` library, and allows you to produce plots by calling methods from `Series` and `DataFrame` objects.  For the examples here, we'll use the penguins data set we've used in the previous sections."
   ]
  },
  {
   "cell_type": "code",
   "execution_count": null,
   "metadata": {},
   "outputs": [],
   "source": [
    "# This line is needed so we can see matlibplot plots in the Jupyter notebook interface\n",
    "%matplotlib inline\n",
    "\n",
    "# We need to import both pandas AND matplotlib\n",
    "import pandas as pd\n",
    "import matplotlib.pyplot as plt\n",
    "\n",
    "# Read the penguins dataset (provideed by Allison Horst)\n",
    "# https://github.com/allisonhorst/palmerpenguins\n",
    "penguins = pd.read_csv(\"https://raw.githubusercontent.com/allisonhorst/palmerpenguins/master/inst/extdata/penguins.csv\")"
   ]
  },
  {
   "cell_type": "markdown",
   "metadata": {},
   "source": [
    "## The `plot` function is the basis for making plots with `pandas`\n",
    "\n",
    "`pandas` provides a high-level `plot` function that can be called from `Series` or `DataFrame` objects to quickly produce a large variety of plots.  First, let's see what happens when we use `plot` with our penguins data:"
   ]
  },
  {
   "cell_type": "code",
   "execution_count": null,
   "metadata": {},
   "outputs": [],
   "source": [
    "penguins.plot()"
   ]
  },
  {
   "cell_type": "markdown",
   "metadata": {},
   "source": [
    "That visualization isn't the most useful, but it does demonstrate what the default `plot` does with no other arguments provided.  Here, it produced a line plot for each of the columns in the `DataFrame` that had numeric values.  This particular visualization is not very useful because the scales for these variables are all different and it doesn't make a lot of sense to plot them all on the same set of axes.  However in certain cases, this default behavior can be useful to quickly make a plot of your data.\n",
    "\n",
    "In most cases, it useful to provide the `plot` function with more specific information about what kind of plot you're trying to make and what variables you want to use.  As a first example, let's make a scatter plot of penguin bill length versus penguin bill depth:"
   ]
  },
  {
   "cell_type": "code",
   "execution_count": null,
   "metadata": {},
   "outputs": [],
   "source": [
    "# The argument syntax is: \n",
    "# column name for the data point position along the x-axis\n",
    "# column name for the data point position along the y-axis\n",
    "# what kind of plot to make\n",
    "penguins.plot(\"bill_depth_mm\", \"bill_length_mm\", kind=\"scatter\")"
   ]
  },
  {
   "cell_type": "markdown",
   "metadata": {},
   "source": [
    "Since the kind of plot is an important factor that drives the visualization, there is an alternative plotting syntax that puts the kind of plot up front in the"
   ]
  },
  {
   "cell_type": "code",
   "execution_count": null,
   "metadata": {},
   "outputs": [],
   "source": [
    "penguins.plot.scatter(\"bill_depth_mm\", \"bill_length_mm\")"
   ]
  },
  {
   "cell_type": "markdown",
   "metadata": {},
   "source": [
    "The general pattern here is to use `DataFrame or Series Object` + `.plot` + `.PLOT_KIND`.  Some of the main plot kinds supported by `pandas` are:\n",
    "- `scatter`\n",
    "- `bar`\n",
    "- `hist` (histogram)\n",
    "- `box` (boxplot)\n",
    "- ... many others"
   ]
  },
  {
   "cell_type": "markdown",
   "metadata": {},
   "source": [
    "When working with most any data set, it's often useful to look at how the various variables in the data are distributed. We can easily do that in `pandas` by first selecting the column of interest, then calling the plot function:"
   ]
  },
  {
   "cell_type": "code",
   "execution_count": null,
   "metadata": {},
   "outputs": [],
   "source": [
    "penguins[\"body_mass_g\"].plot.hist()"
   ]
  },
  {
   "cell_type": "markdown",
   "metadata": {},
   "source": [
    "Making a boxplot from the same data data simply requires a change to the plot type:"
   ]
  },
  {
   "cell_type": "code",
   "execution_count": null,
   "metadata": {},
   "outputs": [],
   "source": [
    "# Just change hist to box\n",
    "penguins[\"body_mass_g\"].plot.box()"
   ]
  },
  {
   "cell_type": "markdown",
   "metadata": {},
   "source": [
    "We can also combine our knowledge of how to subset data in `pandas` to look at distributions for particular types of penguin species:"
   ]
  },
  {
   "cell_type": "code",
   "execution_count": null,
   "metadata": {},
   "outputs": [],
   "source": [
    "# Here, we use the loc indexing function to filter to a specific species and select the body mass column\n",
    "penguins.loc[penguins[\"species\"]==\"Adelie\", \"body_mass_g\"].plot.hist()"
   ]
  },
  {
   "cell_type": "markdown",
   "metadata": {},
   "source": [
    "The above examples looked at the distributions for individual numeric data.  An analogous plot for categorical-type data can be produced as follows:"
   ]
  },
  {
   "cell_type": "code",
   "execution_count": null,
   "metadata": {},
   "outputs": [],
   "source": [
    "# Species is a string column containing 3 different penguin species\n",
    "# We can count up how many times each appears using the value_counts function\n",
    "# then display as a bar plot\n",
    "penguins[\"species\"].value_counts().plot.bar()"
   ]
  },
  {
   "cell_type": "markdown",
   "metadata": {},
   "source": [
    "`value_counts` is a useful function from `pandas` that we haven't yet covered.  There are lots of other `pandas` function that are worth learning about.  See the `pandas` documentation and tutorials for more information."
   ]
  },
  {
   "cell_type": "markdown",
   "metadata": {},
   "source": [
    "## Plots for Comparing Different Data Subsets\n",
    "\n",
    "In the above examples, we our plots focused on diplaying data from a single set (or subset) of data.  However, it's often very useful to generate plots that compare data between sets.  For example, the following plot shows the distribution of bill lengths for each of the three species of penguins:"
   ]
  },
  {
   "cell_type": "code",
   "execution_count": null,
   "metadata": {},
   "outputs": [],
   "source": [
    "# pandas need the comparison groups to each be in their own columns\n",
    "# Use pivot for this where columns represents the column with the set groupings\n",
    "# and values represents the values you want to plot\n",
    "penguins.pivot(columns=\"species\", values=\"bill_length_mm\").plot.box()"
   ]
  },
  {
   "cell_type": "markdown",
   "metadata": {},
   "source": [
    "The above syntax for making this plot might seen a bit odd since we have to first pivot the data (to wide format) before plotting.  The main thing to note is that for plots like these, `pandas` needs the comparison groups arranged in their own columns.  In this case, we need individual columns for each of the 3 penguin species.  In the long format that the data is provided in, there is a single column called `species` so we need to pivot this data to wide format based on this column, and we select the values to be `bill_length_mm`.\n",
    "\n",
    "This works for other types of plots as well.  For example we can produce histograms instead:"
   ]
  },
  {
   "cell_type": "code",
   "execution_count": null,
   "metadata": {},
   "outputs": [],
   "source": [
    "# Just change box to hist\n",
    "# Notice the use of alpha in hist -- try running without this argument\n",
    "penguins.pivot(columns=\"species\", values=\"bill_length_mm\").plot.hist(alpha=0.5)"
   ]
  },
  {
   "cell_type": "markdown",
   "metadata": {},
   "source": [
    "Variations on these plots can be easily made by specifying different subset groups and values to plot.  For example we can compare the distributions of body mass by island as follows:"
   ]
  },
  {
   "cell_type": "code",
   "execution_count": null,
   "metadata": {},
   "outputs": [],
   "source": [
    "penguins.pivot(columns=\"island\", values=\"body_mass_g\").plot.hist(alpha=0.5)"
   ]
  },
  {
   "cell_type": "markdown",
   "metadata": {},
   "source": [
    "## Saving Plots to a File"
   ]
  },
  {
   "cell_type": "markdown",
   "metadata": {},
   "source": [
    "Saving a plot to a file requires a little bit of setup:\n",
    "\n",
    "1. Get a plot area ready and specify the output size\n",
    "2. Generate the plot like above; note the additional use of the `ax` argument using the axes we got from step 1.\n",
    "3. Optionally, add additional modifications to the plot; here we need to label the x-axis\n",
    "4. Save the figure; the file will go to your current working directory for your notebook"
   ]
  },
  {
   "cell_type": "code",
   "execution_count": null,
   "metadata": {},
   "outputs": [],
   "source": [
    "fig, axs = plt.subplots(figsize=(12, 6))\n",
    "penguins.pivot(columns=\"species\", values=\"bill_length_mm\").plot.hist(ax=axs, alpha=0.5)\n",
    "axs.set_xlabel(\"Bill Length (mm)\")\n",
    "fig.savefig(\"bill_length_distributions.png\")"
   ]
  },
  {
   "cell_type": "markdown",
   "metadata": {},
   "source": [
    "## Final Thoughts\n",
    "\n",
    "`pandas` provides several ways to make quick plots that work great for exploratory-type visulizations.  However, you'll likely find yourself eventually wanting more power and control in the plots you make that goes beyond what `pandas` provides.  Fortunately, there are lots of great plotting libraries in Python like the ones noted at the beginning of this section.  Try some of them out to see what works best for you (`seaborn` gets high marks)."
   ]
  },
  {
   "cell_type": "markdown",
   "metadata": {},
   "source": [
    "## Main Points\n",
    "\n",
    "- Data visualization is a key piece of any data analysis workflow.\n",
    "- `pandas` provides several functions for making quick plots that are well suited for exploratory visualization\n",
    "- Data from `pandas` `DataFrames` can we plotted using the `plot.*` family of functions (where * = {scatter, box, hist, etc, ...})\n",
    "- Data subsetting and reformatting (`pivot`, `melt`) can be used to prepare data for different kinds of views and comparisons"
   ]
  }
 ],
 "metadata": {
  "kernelspec": {
   "display_name": "Python 3.9.5 - rstudio",
   "language": "python",
   "name": "rstudio-user-3.9.5"
  },
  "language_info": {
   "codemirror_mode": {
    "name": "ipython",
    "version": 3
   },
   "file_extension": ".py",
   "mimetype": "text/x-python",
   "name": "python",
   "nbconvert_exporter": "python",
   "pygments_lexer": "ipython3",
   "version": "3.9.5"
  }
 },
 "nbformat": 4,
 "nbformat_minor": 4
}
