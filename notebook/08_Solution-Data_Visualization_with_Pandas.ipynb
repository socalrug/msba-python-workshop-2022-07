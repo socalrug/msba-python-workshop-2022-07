{
 "cells": [
  {
   "cell_type": "markdown",
   "metadata": {},
   "source": [
    "# Basic Plotting with `pandas` -- Exercises"
   ]
  },
  {
   "cell_type": "markdown",
   "metadata": {},
   "source": [
    "## Goal\n",
    "\n",
    "Practice making basic plots from `DataFrames`"
   ]
  },
  {
   "cell_type": "markdown",
   "metadata": {},
   "source": [
    "## Exercises"
   ]
  },
  {
   "cell_type": "markdown",
   "metadata": {},
   "source": [
    "### 0. Import `pandas` and `matplotlib.pyplot`, then load the gapminder data set"
   ]
  },
  {
   "cell_type": "code",
   "execution_count": null,
   "metadata": {},
   "outputs": [],
   "source": [
    "import pandas as pd\n",
    "import matplotlib.pyplot as plt\n",
    "\n",
    "# This is actually a tab separated file (not comma); still use read_csv, but specify the tab separator\n",
    "gapminder = pd.read_csv(\"https://raw.githubusercontent.com/jennybc/gapminder/master/inst/extdata/gapminder.tsv\", sep=\"\\t\")"
   ]
  },
  {
   "cell_type": "markdown",
   "metadata": {},
   "source": [
    "### 1. Make a line plot of the population of the United States versus year\n",
    "\n",
    "Hint: Can you guess the name of this plot kind?  Its arguments are like those for `scatter`."
   ]
  },
  {
   "cell_type": "code",
   "execution_count": null,
   "metadata": {},
   "outputs": [],
   "source": [
    "# We can use a subsetting operation followed by a plot command\n",
    "gapminder[gapminder[\"country\"] == \"United States\"].plot.line(\"year\", \"pop\")"
   ]
  },
  {
   "cell_type": "markdown",
   "metadata": {},
   "source": [
    "### 2. What does the distribution of life expectancy look for the year 1952?\n",
    "\n",
    "Hint: you can use a `bins=NUMBER_OF_BINS` argument in the plot command to change the number of bins in a histogram"
   ]
  },
  {
   "cell_type": "code",
   "execution_count": null,
   "metadata": {},
   "outputs": [],
   "source": [
    "gapminder.loc[gapminder[\"year\"] == 1952, \"lifeExp\"].plot.hist(bins=20)"
   ]
  },
  {
   "cell_type": "markdown",
   "metadata": {},
   "source": [
    "### 3. Make a plot that compares the distribution of life expectancy for 1952 and 2007.  What does this visualization tell you about how things have changed across this time span?"
   ]
  },
  {
   "cell_type": "code",
   "execution_count": null,
   "metadata": {},
   "outputs": [],
   "source": [
    "# first subset to get just the years 1952 and 2007\n",
    "dat_1952_2007 = gapminder[gapminder[\"year\"].isin([1952, 2007])]\n",
    "\n",
    "# next pivot the data to get the years along the columns with life expectancy as the values\n",
    "dat_1952_2007.pivot(columns=\"year\", values=\"lifeExp\").plot.hist(bins = 20, alpha = 0.5)"
   ]
  },
  {
   "cell_type": "markdown",
   "metadata": {},
   "source": [
    "### 4. Save the plot you created in 3. to a .png file.  Make sure the axes are properly labeled."
   ]
  },
  {
   "cell_type": "code",
   "execution_count": null,
   "metadata": {},
   "outputs": [],
   "source": [
    "fig, axs = plt.subplots(figsize=(12, 6))\n",
    "dat_1952_2007.pivot(columns=\"year\", values=\"lifeExp\").plot.hist(ax=axs, bins = 20, alpha = 0.5)\n",
    "axs.set_xlabel(\"Life Expectancy (years)\")\n",
    "fig.savefig(\"life_exp_dist_1952_vs_2007.png\")"
   ]
  }
 ],
 "metadata": {
  "kernelspec": {
   "display_name": "Python 3",
   "language": "python",
   "name": "python3"
  },
  "language_info": {
   "codemirror_mode": {
    "name": "ipython",
    "version": 3
   },
   "file_extension": ".py",
   "mimetype": "text/x-python",
   "name": "python",
   "nbconvert_exporter": "python",
   "pygments_lexer": "ipython3",
   "version": "3.6.10"
  }
 },
 "nbformat": 4,
 "nbformat_minor": 4
}
